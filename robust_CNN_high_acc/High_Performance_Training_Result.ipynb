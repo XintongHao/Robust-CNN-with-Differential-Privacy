{
 "cells": [
  {
   "cell_type": "markdown",
   "metadata": {},
   "source": [
    "# Defense model based on high performance CNN model"
   ]
  },
  {
   "cell_type": "code",
   "execution_count": 1,
   "metadata": {},
   "outputs": [],
   "source": [
    "import numpy as np\n",
    "import matplotlib.pyplot as plt\n",
    "%matplotlib inline\n",
    "import seaborn as sns\n",
    "import json\n",
    "plt.style.use(['classic', 'seaborn-deep', 'seaborn-dark'])\n",
    "sns.set(style='whitegrid')"
   ]
  },
  {
   "cell_type": "markdown",
   "metadata": {},
   "source": [
    "## Load Original CNN Model Result"
   ]
  },
  {
   "cell_type": "code",
   "execution_count": 2,
   "metadata": {},
   "outputs": [],
   "source": [
    "with open('json/baseline_acc.json') as f:\n",
    "    baseline_acc = json.loads(f.read())"
   ]
  },
  {
   "cell_type": "code",
   "execution_count": 3,
   "metadata": {},
   "outputs": [
    {
     "data": {
      "image/png": "[encoded data removed]",
      "text/plain": [
       "<Figure size 432x288 with 1 Axes>"
      ]
     },
     "metadata": {
      "needs_background": "light"
     },
     "output_type": "display_data"
    }
   ],
   "source": [
    "plt.figure(figsize=(6, 4))\n",
    "x = np.arange(0, 55, 1)\n",
    "x_v = np.arange(0, 55, 5)\n",
    "plt.plot(x, \n",
    "         baseline_acc['train_acc'],\n",
    "         marker='^',\n",
    "        label = 'Training Accuracy')\n",
    "plt.plot(x_v, \n",
    "         baseline_acc['validation_acc'],\n",
    "        marker='o',\n",
    "        label = 'Validation Accuracy')\n",
    "\n",
    "\n",
    "plt.ylabel('Conventional Accuracy')\n",
    "plt.xlabel('Epoch')\n",
    "plt.legend(loc=5)\n",
    "plt.savefig('plots/orig_acc')\n",
    "plt.show()"
   ]
  },
  {
   "cell_type": "code",
   "execution_count": 4,
   "metadata": {},
   "outputs": [
    {
     "data": {
      "text/plain": [
       "0.9917"
      ]
     },
     "execution_count": 4,
     "metadata": {},
     "output_type": "execute_result"
    }
   ],
   "source": [
    "baseline_acc['acc_buffer']"
   ]
  },
  {
   "cell_type": "markdown",
   "metadata": {},
   "source": [
    "### Evaluation on test set"
   ]
  },
  {
   "cell_type": "code",
   "execution_count": 5,
   "metadata": {},
   "outputs": [
    {
     "name": "stdout",
     "output_type": "stream",
     "text": [
      "WARNING:tensorflow:From <ipython-input-5-85316f10b6d3>:17: read_data_sets (from tensorflow.contrib.learn.python.learn.datasets.mnist) is deprecated and will be removed in a future version.\n",
      "Instructions for updating:\n",
      "Please use alternatives such as official/mnist/dataset.py from tensorflow/models.\n",
      "WARNING:tensorflow:From /anaconda3/lib/python3.6/site-packages/tensorflow/contrib/learn/python/learn/datasets/mnist.py:260: maybe_download (from tensorflow.contrib.learn.python.learn.datasets.base) is deprecated and will be removed in a future version.\n",
      "Instructions for updating:\n",
      "Please write your own downloading logic.\n",
      "WARNING:tensorflow:From /anaconda3/lib/python3.6/site-packages/tensorflow/contrib/learn/python/learn/datasets/mnist.py:262: extract_images (from tensorflow.contrib.learn.python.learn.datasets.mnist) is deprecated and will be removed in a future version.\n",
      "Instructions for updating:\n",
      "Please use tf.data to implement this functionality.\n",
      "Extracting data/train-images-idx3-ubyte.gz\n",
      "WARNING:tensorflow:From /anaconda3/lib/python3.6/site-packages/tensorflow/contrib/learn/python/learn/datasets/mnist.py:267: extract_labels (from tensorflow.contrib.learn.python.learn.datasets.mnist) is deprecated and will be removed in a future version.\n",
      "Instructions for updating:\n",
      "Please use tf.data to implement this functionality.\n",
      "Extracting data/train-labels-idx1-ubyte.gz\n",
      "WARNING:tensorflow:From /anaconda3/lib/python3.6/site-packages/tensorflow/contrib/learn/python/learn/datasets/mnist.py:110: dense_to_one_hot (from tensorflow.contrib.learn.python.learn.datasets.mnist) is deprecated and will be removed in a future version.\n",
      "Instructions for updating:\n",
      "Please use tf.one_hot on tensors.\n",
      "Extracting data/t10k-images-idx3-ubyte.gz\n",
      "Extracting data/t10k-labels-idx1-ubyte.gz\n",
      "WARNING:tensorflow:From /anaconda3/lib/python3.6/site-packages/tensorflow/contrib/learn/python/learn/datasets/mnist.py:290: DataSet.__init__ (from tensorflow.contrib.learn.python.learn.datasets.mnist) is deprecated and will be removed in a future version.\n",
      "Instructions for updating:\n",
      "Please use alternatives such as official/mnist/dataset.py from tensorflow/models.\n",
      "INFO:tensorflow:Restoring parameters from model/model.ckpt\n"
     ]
    }
   ],
   "source": [
    "from __future__ import absolute_import\n",
    "from __future__ import division\n",
    "from __future__ import print_function\n",
    "\n",
    "import numpy as np\n",
    "import os\n",
    "import tensorflow as tf\n",
    "import tensorflow.contrib.slim as slim\n",
    "from tensorflow.examples.tutorials.mnist import input_data\n",
    "\n",
    "import mnist_data\n",
    "import cnn_model\n",
    "\n",
    "MODEL_DIRECTORY = \"model/model.ckpt\"\n",
    "\n",
    "PIXEL_DEPTH = 255\n",
    "mnist = input_data.read_data_sets('data/', one_hot=True)\n",
    "\n",
    "is_training = tf.placeholder(tf.bool, name='MODE')\n",
    "\n",
    "# tf Graph input\n",
    "x = tf.placeholder(tf.float32, [None, 784])\n",
    "y_ = tf.placeholder(tf.float32, [None, 10])  # answer\n",
    "y = cnn_model.CNN(x, is_training=is_training)\n",
    "\n",
    "# Add ops to save and restore all the variables\n",
    "sess = tf.InteractiveSession()\n",
    "sess.run(tf.global_variables_initializer(), feed_dict={is_training: True})\n",
    "\n",
    "# Restore variables from disk\n",
    "saver = tf.train.Saver()\n",
    "\n",
    "saver.restore(sess, MODEL_DIRECTORY)"
   ]
  },
  {
   "cell_type": "code",
   "execution_count": 6,
   "metadata": {},
   "outputs": [
    {
     "name": "stdout",
     "output_type": "stream",
     "text": [
      "test accuracy for the original model: 0.9941\n"
     ]
    }
   ],
   "source": [
    "batch_size = 5000\n",
    "\n",
    "# Calculate accuracy for all mnist test images\n",
    "test_size = mnist.test.num_examples\n",
    "total_batch = int(test_size / batch_size)\n",
    "acc_buffer = []\n",
    "# Loop over all batches\n",
    "for i in range(total_batch):\n",
    "\n",
    "    batch = mnist.test.next_batch(batch_size)\n",
    "    batch_xs = (batch[0] - (PIXEL_DEPTH / 2.0) / PIXEL_DEPTH)  # make zero-centered distribution as in mnist_data.extract_data()\n",
    "    batch_ys = batch[1]\n",
    "\n",
    "    y_final = sess.run(y, feed_dict={x: batch_xs, y_: batch_ys, is_training: False})\n",
    "\n",
    "    correct_prediction = np.equal(np.argmax(y_final, 1), np.argmax(batch_ys, 1))\n",
    "\n",
    "    acc_buffer.append(np.sum(correct_prediction) / batch_size)\n",
    "\n",
    "print(\"test accuracy for the original model: %g\" % np.mean(acc_buffer))"
   ]
  },
  {
   "cell_type": "markdown",
   "metadata": {},
   "source": [
    "## Load Robust Model Result"
   ]
  },
  {
   "cell_type": "code",
   "execution_count": 8,
   "metadata": {},
   "outputs": [],
   "source": [
    "import pickle\n",
    "# with (open(\"output/bi_acc.p\", \"rb\")) as openfile:\n",
    "#     bi_acc = pickle.load(openfile)\n",
    "\n",
    "with open('json/train_acc.p', 'rb') as fp:\n",
    "    robust_train_acc = pickle.load(fp)\n",
    "    \n",
    "with open('json/validation_acc.p', 'rb') as fp:\n",
    "    robust_val_acc = pickle.load(fp)\n",
    "\n",
    "with open('json/acc_buffer.p', 'rb') as fp:\n",
    "    robust_acc_buffer = pickle.load(fp)\n",
    "\n"
   ]
  },
  {
   "cell_type": "code",
   "execution_count": 10,
   "metadata": {},
   "outputs": [
    {
     "data": {
      "image/png": "[encoded data removed]",
      "text/plain": [
       "<Figure size 432x288 with 1 Axes>"
      ]
     },
     "metadata": {
      "needs_background": "light"
     },
     "output_type": "display_data"
    }
   ],
   "source": [
    "\n",
    "plt.figure(figsize=(6, 4))\n",
    "x = np.arange(0, 55, 1)\n",
    "x_v = np.arange(0, 55, 5)\n",
    "plt.plot(x, \n",
    "         robust_train_acc,\n",
    "         marker='^',\n",
    "         label = 'Training Accuracy'\n",
    "        )\n",
    "plt.plot(x_v, \n",
    "         robust_val_acc,\n",
    "        label = 'Validation Accuracy',\n",
    "         marker='o')\n",
    "\n",
    "plt.ylabel('Conventional Accuracy')\n",
    "plt.xlabel('Epoch')\n",
    "plt.legend(loc=5)\n",
    "plt.savefig('plots/robust_acc')\n",
    "plt.show()"
   ]
  },
  {
   "cell_type": "markdown",
   "metadata": {},
   "source": [
    "## Evaluation on test data"
   ]
  },
  {
   "cell_type": "code",
   "execution_count": 12,
   "metadata": {},
   "outputs": [
    {
     "name": "stdout",
     "output_type": "stream",
     "text": [
      "WARNING:tensorflow:From <ipython-input-12-0f9c2a57d19f>:23: read_data_sets (from tensorflow.contrib.learn.python.learn.datasets.mnist) is deprecated and will be removed in a future version.\n",
      "Instructions for updating:\n",
      "Please use alternatives such as official/mnist/dataset.py from tensorflow/models.\n",
      "WARNING:tensorflow:From /anaconda3/lib/python3.6/site-packages/tensorflow/contrib/learn/python/learn/datasets/mnist.py:260: maybe_download (from tensorflow.contrib.learn.python.learn.datasets.base) is deprecated and will be removed in a future version.\n",
      "Instructions for updating:\n",
      "Please write your own downloading logic.\n",
      "WARNING:tensorflow:From /anaconda3/lib/python3.6/site-packages/tensorflow/contrib/learn/python/learn/datasets/mnist.py:262: extract_images (from tensorflow.contrib.learn.python.learn.datasets.mnist) is deprecated and will be removed in a future version.\n",
      "Instructions for updating:\n",
      "Please use tf.data to implement this functionality.\n",
      "Extracting data/train-images-idx3-ubyte.gz\n",
      "WARNING:tensorflow:From /anaconda3/lib/python3.6/site-packages/tensorflow/contrib/learn/python/learn/datasets/mnist.py:267: extract_labels (from tensorflow.contrib.learn.python.learn.datasets.mnist) is deprecated and will be removed in a future version.\n",
      "Instructions for updating:\n",
      "Please use tf.data to implement this functionality.\n",
      "Extracting data/train-labels-idx1-ubyte.gz\n",
      "WARNING:tensorflow:From /anaconda3/lib/python3.6/site-packages/tensorflow/contrib/learn/python/learn/datasets/mnist.py:110: dense_to_one_hot (from tensorflow.contrib.learn.python.learn.datasets.mnist) is deprecated and will be removed in a future version.\n",
      "Instructions for updating:\n",
      "Please use tf.one_hot on tensors.\n",
      "Extracting data/t10k-images-idx3-ubyte.gz\n",
      "Extracting data/t10k-labels-idx1-ubyte.gz\n",
      "WARNING:tensorflow:From /anaconda3/lib/python3.6/site-packages/tensorflow/contrib/learn/python/learn/datasets/mnist.py:290: DataSet.__init__ (from tensorflow.contrib.learn.python.learn.datasets.mnist) is deprecated and will be removed in a future version.\n",
      "Instructions for updating:\n",
      "Please use alternatives such as official/mnist/dataset.py from tensorflow/models.\n",
      "INFO:tensorflow:Restoring parameters from robust_model/model.ckpt\n"
     ]
    }
   ],
   "source": [
    "MODEL_DIRECTORY = \"robust_model/model.ckpt\"\n",
    "\n",
    "PIXEL_DEPTH = 255\n",
    "mnist = input_data.read_data_sets('data/', one_hot=True)\n",
    "\n",
    "is_training = tf.placeholder(tf.bool, name='MODE')\n",
    "\n",
    "# tf Graph input\n",
    "x = tf.placeholder(tf.float32, [None, 784])\n",
    "y_ = tf.placeholder(tf.float32, [None, 10])  # answer\n",
    "y = cnn_model.CNN(x, is_training=is_training)\n",
    "\n",
    "# Add ops to save and restore all the variables\n",
    "sess = tf.InteractiveSession()\n",
    "sess.run(tf.global_variables_initializer(), feed_dict={is_training: True})\n",
    "\n",
    "# Restore variables from disk\n",
    "saver = tf.train.Saver()\n",
    "\n",
    "\n",
    "\n",
    "saver.restore(sess, MODEL_DIRECTORY)"
   ]
  },
  {
   "cell_type": "code",
   "execution_count": 27,
   "metadata": {},
   "outputs": [
    {
     "name": "stdout",
     "output_type": "stream",
     "text": [
      "test accuracy for the robust model: 0.9678\n"
     ]
    }
   ],
   "source": [
    "batch_size = 5000\n",
    "\n",
    "# Calculate accuracy for all mnist test images\n",
    "test_size = mnist.test.num_examples\n",
    "total_batch = int(test_size / batch_size)\n",
    "acc_buffer = []\n",
    "# Loop over all batches\n",
    "for i in range(total_batch):\n",
    "\n",
    "    batch = mnist.test.next_batch(batch_size)\n",
    "    batch_xs = (batch[0] - (PIXEL_DEPTH / 2.0) / PIXEL_DEPTH)  # make zero-centered distribution as in mnist_data.extract_data()\n",
    "    batch_ys = batch[1]\n",
    "\n",
    "    y_final = sess.run(y, feed_dict={x: batch_xs, y_: batch_ys, is_training: False})\n",
    "\n",
    "    correct_prediction = np.equal(np.argmax(y_final, 1), np.argmax(batch_ys, 1))\n",
    "\n",
    "    acc_buffer.append(np.sum(correct_prediction) / batch_size)\n",
    "\n",
    "print(\"test accuracy for the robust model: %g\" % np.mean(acc_buffer))\n",
    "    "
   ]
  },
  {
   "cell_type": "code",
   "execution_count": null,
   "metadata": {},
   "outputs": [],
   "source": []
  }
 ],
 "metadata": {
  "kernelspec": {
   "display_name": "Python 3",
   "language": "python",
   "name": "python3"
  },
  "language_info": {
   "codemirror_mode": {
    "name": "ipython",
    "version": 3
   },
   "file_extension": ".py",
   "mimetype": "text/x-python",
   "name": "python",
   "nbconvert_exporter": "python",
   "pygments_lexer": "ipython3",
   "version": "3.6.6"
  }
 },
 "nbformat": 4,
 "nbformat_minor": 2
}
