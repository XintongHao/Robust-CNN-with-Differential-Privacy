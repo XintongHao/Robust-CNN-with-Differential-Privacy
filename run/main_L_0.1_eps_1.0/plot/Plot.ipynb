{
 "cells": [
  {
   "cell_type": "code",
   "execution_count": 1,
   "metadata": {},
   "outputs": [],
   "source": [
    "import scipy.stats\n",
    "import numpy as np\n",
    "import os, sys,  json, math\n",
    "import matplotlib\n",
    "# matplotlib.use('Agg')\n",
    "from matplotlib import pyplot as plt\n",
    "import seaborn as sns\n",
    "%matplotlib inline\n",
    "\n",
    "import seaborn as sns\n",
    "plt.style.use(['classic', 'seaborn-deep', 'seaborn-dark'])\n",
    "sns.set(style='whitegrid')"
   ]
  },
  {
   "cell_type": "code",
   "execution_count": 3,
   "metadata": {},
   "outputs": [],
   "source": [
    "import models.params as model_params\n",
    "import models\n",
    "import attacks\n",
    "from attacks import params, carlini\n",
    "\n",
    "\n",
    "steps_num       = 4000\n",
    "eval_data_size  = 1000\n",
    "\n",
    "image_size      = 28\n",
    "n_channels      = 1\n",
    "num_classes     = 10\n",
    "relu_leakiness  = 0.0\n",
    "lrn_rate        = 0.01\n",
    "lrn_rte_changes = [3000]\n",
    "lrn_rte_vals    = [0.01]\n",
    "\n",
    "batch_size = 128\n",
    "n_draws    = 1\n",
    "\n",
    "\n",
    "compute_robustness = True\n",
    "\n",
    "# See doc in ./models/params.py\n",
    "L = 0.1\n",
    "hps = models.params.HParams(\n",
    "    name_prefix=\"\",\n",
    "    batch_size=batch_size,\n",
    "    num_classes=num_classes,\n",
    "    image_size=image_size,\n",
    "    n_channels=n_channels,\n",
    "    lrn_rate=lrn_rate,\n",
    "    lrn_rte_changes=lrn_rte_changes,\n",
    "    lrn_rte_vals=lrn_rte_vals,\n",
    "    num_residual_units=4,\n",
    "    use_bottleneck=False,\n",
    "    weight_decay_rate=0.0002,\n",
    "    relu_leakiness=relu_leakiness,\n",
    "    optimizer='mom',\n",
    "    image_standardization=False,\n",
    "    n_draws=n_draws,\n",
    "    dp_epsilon=1.0,\n",
    "    dp_delta=0.05,\n",
    "    robustness_confidence_proba=0.05,\n",
    "    attack_norm_bound=L,\n",
    "    attack_norm='l2',\n",
    "    sensitivity_norm='l2',\n",
    "    sensitivity_control_scheme='bound',  # bound or optimize\n",
    "    noise_after_n_layers=1,\n",
    "    layer_sensitivity_bounds=['l2_l2'],\n",
    "    noise_after_activation=True,\n",
    "    parseval_loops=10,\n",
    "    parseval_step=0.0003,\n",
    "    steps_num=steps_num,\n",
    "    eval_data_size=eval_data_size,\n",
    ")\n",
    "\n",
    "\n",
    "atk = carlini\n",
    "attack_params = attacks.params.AttackParams(\n",
    "    restarts=1,\n",
    "    n_draws_attack=20,\n",
    "    n_draws_eval=500,\n",
    "    attack_norm='l2',\n",
    "    max_attack_size=5,\n",
    "\n",
    "    num_examples=1000,\n",
    "\n",
    "    attack_methodolody=attacks.name_from_module(atk),\n",
    "    targeted=False,\n",
    "\n",
    "    sgd_iterations=100,\n",
    "\n",
    "    use_softmax=True\n",
    ")\n"
   ]
  },
  {
   "cell_type": "code",
   "execution_count": 4,
   "metadata": {},
   "outputs": [
    {
     "name": "stdout",
     "output_type": "stream",
     "text": [
      "HParams(name_prefix='', batch_size=128, num_classes=10, lrn_rate=0.01, lrn_rte_changes=[3000], lrn_rte_vals=[0.01], num_residual_units=4, use_bottleneck=False, weight_decay_rate=0.0002, relu_leakiness=0.0, optimizer='mom', image_standardization=False, image_size=28, n_channels=1, n_draws=1, dp_epsilon=1.0, dp_delta=0.05, attack_norm='l2', robustness_confidence_proba=0.05, attack_norm_bound=0.1, sensitivity_norm='l2', sensitivity_control_scheme='bound', noise_after_n_layers=1, layer_sensitivity_bounds=['l2_l2'], noise_after_activation=True, parseval_loops=10, parseval_step=0.0003, steps_num=4000, eval_data_size=1000)\n",
      "----\n",
      "[AttackParams(restarts=1, n_draws_attack=20, n_draws_eval=500, attack_norm='l2', max_attack_size=5, num_examples=1000, attack_methodolody='carlini', targeted=False, sgd_iterations=100, use_softmax=True)]\n",
      "=====\n"
     ]
    }
   ],
   "source": [
    "for param, model_attack_params in zip([hps], [[attack_params]]):\n",
    "#     x = [x/10 for x in range(1,16)]\n",
    "    print(param)\n",
    "    print('----')\n",
    "    print(model_attack_params)\n",
    "    print('=====')"
   ]
  },
  {
   "cell_type": "code",
   "execution_count": 5,
   "metadata": {},
   "outputs": [],
   "source": [
    "with open (\"eval_model/eval_data.json\") as f:\n",
    "    eval_data_base = json.loads(f.read())\n",
    "    \n",
    "with open (\"eval_model_under_attack/eval_data.json\") as f:\n",
    "    eval_data = json.loads(f.read())"
   ]
  },
  {
   "cell_type": "code",
   "execution_count": 37,
   "metadata": {},
   "outputs": [],
   "source": [
    "def accuracy(truth, output_sum):\n",
    "    pred_truth = np.array(truth) == np.argmax(np.array(output_sum), axis=1)\n",
    "    if len(pred_truth) == 0:\n",
    "        return 0    \n",
    "    return sum(pred_truth) / len(pred_truth)\n",
    "\n",
    "def baselin_acc(eval_data):\n",
    "    truth  = eval_data['pred_truth']\n",
    "    output_sum      = eval_data['argmax_sum']\n",
    "    adv_output_sums = eval_data['adv_argmax_sum']\n",
    "    \n",
    "    return  accuracy(truth, output_sum)\n",
    "\n",
    "def all_y(eval_data, x, curve_y):\n",
    "    for t in x:\n",
    "        # The min is in case of multiple restarts\n",
    "        y = [min(l) > t for l in eval_data['adversarial_norm']]\n",
    "        curve_y.append(sum(y) / len(y))\n",
    "    \n",
    "    return curve_y\n",
    "#     curves_y.append(curve_y)"
   ]
  },
  {
   "cell_type": "code",
   "execution_count": 69,
   "metadata": {},
   "outputs": [
    {
     "data": {
      "text/plain": [
       "<Figure size 432x288 with 0 Axes>"
      ]
     },
     "metadata": {},
     "output_type": "display_data"
    },
    {
     "data": {
      "image/png": "[encoded data removed]",
      "text/plain": [
       "<Figure size 1152x576 with 1 Axes>"
      ]
     },
     "metadata": {
      "needs_background": "light"
     },
     "output_type": "display_data"
    }
   ],
   "source": [
    "y_list = []\n",
    "x = [x/10 for x in range(1,16)]\n",
    "\n",
    "curve_y = [0]\n",
    "curve_y[0] = baselin_acc(eval_data)\n",
    "curve_y = all_y(eval_data, x, curve_y)\n",
    "y_list.append(curve_y)\n",
    "\n",
    "x = [0] + x  # for the baseline\n",
    "\n",
    "color_list = [\"salmon\", \"tomato\", \"r\", \"darkred\"]\n",
    "marker_list = ['o', '^', '>', 's']\n",
    "\n",
    "plt.clf()\n",
    "fig, (ax) = plt.subplots(1, 1, figsize=(16, 8))\n",
    "x_range=(0, 1)\n",
    "x_offset = max(x_range)*0.01\n",
    "plt.xlim((x_range[0]-x_offset, x_range[1]+x_offset))\n",
    "plt.ylim(0, 1.0)\n",
    "artists = []\n",
    "\n",
    "L_list = [0.05, 0.5, 1.0]\n",
    "curves_labels = []\n",
    "for i, y in enumerate(curves_y):\n",
    "    L = param.attack_norm_bound\n",
    "    label = \"L={} (L2-norm)\".format(L)\n",
    "    curves_labels.append(label)\n",
    "    art, = plt.plot(\n",
    "        x, y,\n",
    "        color=color_list[i],\n",
    "        linestyle='--',\n",
    "        linewidth=3,\n",
    "        label=label,\n",
    "        marker=marker_list[i],\n",
    "    #         markersize=plots.utils.markersize\n",
    "    )\n",
    "    artists.append([None, None, art])\n",
    "    ax.set(xlabel=r'Empirical attack bound $L_{attack}$ (2-norm)', ylabel=r'Accuracy')\n",
    "\n",
    "    l = plt.legend(\n",
    "        handles=[x[2] for x in artists],\n",
    "        loc=1,\n",
    "        fontsize=15)\n",
    "    l.set_zorder(20)  # put the legend on top\n",
    "    for t in ax.get_xticklabels() + ax.get_yticklabels():\n",
    "        t.set_fontsize(15)\n",
    "        \n",
    "    ax.xaxis.label.set_fontsize(15)\n",
    "    ax.yaxis.label.set_fontsize(15)\n",
    "\n",
    "plt.show()"
   ]
  },
  {
   "cell_type": "code",
   "execution_count": null,
   "metadata": {},
   "outputs": [],
   "source": []
  }
 ],
 "metadata": {
  "kernelspec": {
   "display_name": "Python 3",
   "language": "python",
   "name": "python3"
  },
  "language_info": {
   "codemirror_mode": {
    "name": "ipython",
    "version": 3
   },
   "file_extension": ".py",
   "mimetype": "text/x-python",
   "name": "python",
   "nbconvert_exporter": "python",
   "pygments_lexer": "ipython3",
   "version": "3.6.6"
  }
 },
 "nbformat": 4,
 "nbformat_minor": 2
}
